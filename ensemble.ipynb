{
 "cells": [
  {
   "cell_type": "markdown",
   "id": "f678b6db",
   "metadata": {
    "papermill": {
     "duration": 0.004458,
     "end_time": "2023-03-27T15:27:15.192536",
     "exception": false,
     "start_time": "2023-03-27T15:27:15.188078",
     "status": "completed"
    },
    "tags": []
   },
   "source": [
    "# Ensemble of two models\n",
    "Used 2 notebooks:\n",
    "* https://www.kaggle.com/code/jvthunder/lstm-baseline-for-starters-sign-language (with my own train  - LB = 0.6);\n",
    "* https://www.kaggle.com/code/roberthatch/gislr-lb-0-63-on-the-shoulders (LB = 0.63)\n"
   ]
  },
  {
   "cell_type": "code",
   "execution_count": 1,
   "id": "343ddd91",
   "metadata": {
    "execution": {
     "iopub.execute_input": "2023-03-27T15:27:15.201354Z",
     "iopub.status.busy": "2023-03-27T15:27:15.200662Z",
     "iopub.status.idle": "2023-03-27T15:27:20.861769Z",
     "shell.execute_reply": "2023-03-27T15:27:20.860469Z"
    },
    "papermill": {
     "duration": 5.668187,
     "end_time": "2023-03-27T15:27:20.864335",
     "exception": false,
     "start_time": "2023-03-27T15:27:15.196148",
     "status": "completed"
    },
    "tags": []
   },
   "outputs": [],
   "source": [
    "import pandas as pd\n",
    "import numpy as np\n",
    "import matplotlib.pyplot as plt\n",
    "import tensorflow as tf\n",
    "from tensorflow import keras\n",
    "from tensorflow.keras import layers, optimizers"
   ]
  },
  {
   "cell_type": "markdown",
   "id": "2c361643",
   "metadata": {
    "papermill": {
     "duration": 0.003092,
     "end_time": "2023-03-27T15:27:20.871573",
     "exception": false,
     "start_time": "2023-03-27T15:27:20.868481",
     "status": "completed"
    },
    "tags": []
   },
   "source": [
    "### Load models"
   ]
  },
  {
   "cell_type": "code",
   "execution_count": 2,
   "id": "27c165ef",
   "metadata": {
    "execution": {
     "iopub.execute_input": "2023-03-27T15:27:20.880649Z",
     "iopub.status.busy": "2023-03-27T15:27:20.879163Z",
     "iopub.status.idle": "2023-03-27T15:27:25.984805Z",
     "shell.execute_reply": "2023-03-27T15:27:25.983709Z"
    },
    "papermill": {
     "duration": 5.113074,
     "end_time": "2023-03-27T15:27:25.987928",
     "exception": false,
     "start_time": "2023-03-27T15:27:20.874854",
     "status": "completed"
    },
    "tags": []
   },
   "outputs": [],
   "source": [
    "asl_model = keras.models.load_model('/kaggle/input/gislr-tf-on-the-shoulders-s/models/asl_model')\n",
    "ltsm_model = keras.models.load_model('/kaggle/input/googlecode/lstm5.h5')"
   ]
  },
  {
   "cell_type": "code",
   "execution_count": 3,
   "id": "4fc5a081",
   "metadata": {
    "execution": {
     "iopub.execute_input": "2023-03-27T15:27:25.998957Z",
     "iopub.status.busy": "2023-03-27T15:27:25.998641Z",
     "iopub.status.idle": "2023-03-27T15:27:26.037780Z",
     "shell.execute_reply": "2023-03-27T15:27:26.036419Z"
    },
    "papermill": {
     "duration": 0.05794,
     "end_time": "2023-03-27T15:27:26.051085",
     "exception": false,
     "start_time": "2023-03-27T15:27:25.993145",
     "status": "completed"
    },
    "tags": []
   },
   "outputs": [
    {
     "name": "stdout",
     "output_type": "stream",
     "text": [
      "Model: \"model_1\"\n",
      "_________________________________________________________________\n",
      " Layer (type)                Output Shape              Param #   \n",
      "=================================================================\n",
      " input_2 (InputLayer)        [(None, 5796)]            0         \n",
      "                                                                 \n",
      " dense_3 (Dense)             (None, 1024)              5936128   \n",
      "                                                                 \n",
      " batch_normalization_2 (Batc  (None, 1024)             4096      \n",
      " hNormalization)                                                 \n",
      "                                                                 \n",
      " activation_2 (Activation)   (None, 1024)              0         \n",
      "                                                                 \n",
      " dropout_2 (Dropout)         (None, 1024)              0         \n",
      "                                                                 \n",
      " dense_4 (Dense)             (None, 512)               524800    \n",
      "                                                                 \n",
      " batch_normalization_3 (Batc  (None, 512)              2048      \n",
      " hNormalization)                                                 \n",
      "                                                                 \n",
      " activation_3 (Activation)   (None, 512)               0         \n",
      "                                                                 \n",
      " dropout_3 (Dropout)         (None, 512)               0         \n",
      "                                                                 \n",
      " dense_5 (Dense)             (None, 250)               128250    \n",
      "                                                                 \n",
      "=================================================================\n",
      "Total params: 6,595,322\n",
      "Trainable params: 6,592,250\n",
      "Non-trainable params: 3,072\n",
      "_________________________________________________________________\n"
     ]
    }
   ],
   "source": [
    "asl_model.summary()"
   ]
  },
  {
   "cell_type": "code",
   "execution_count": 4,
   "id": "230326ed",
   "metadata": {
    "execution": {
     "iopub.execute_input": "2023-03-27T15:27:26.062047Z",
     "iopub.status.busy": "2023-03-27T15:27:26.061765Z",
     "iopub.status.idle": "2023-03-27T15:27:26.095914Z",
     "shell.execute_reply": "2023-03-27T15:27:26.094947Z"
    },
    "papermill": {
     "duration": 0.066509,
     "end_time": "2023-03-27T15:27:26.122526",
     "exception": false,
     "start_time": "2023-03-27T15:27:26.056017",
     "status": "completed"
    },
    "tags": []
   },
   "outputs": [
    {
     "name": "stdout",
     "output_type": "stream",
     "text": [
      "Model: \"model\"\n",
      "_________________________________________________________________\n",
      " Layer (type)                Output Shape              Param #   \n",
      "=================================================================\n",
      " input_1 (InputLayer)        [(None, None, 264)]       0         \n",
      "                                                                 \n",
      " dense (Dense)               (None, None, 512)         135680    \n",
      "                                                                 \n",
      " layer_normalization (LayerN  (None, None, 512)        1024      \n",
      " ormalization)                                                   \n",
      "                                                                 \n",
      " activation (Activation)     (None, None, 512)         0         \n",
      "                                                                 \n",
      " dense_1 (Dense)             (None, None, 256)         131328    \n",
      "                                                                 \n",
      " layer_normalization_1 (Laye  (None, None, 256)        512       \n",
      " rNormalization)                                                 \n",
      "                                                                 \n",
      " activation_1 (Activation)   (None, None, 256)         0         \n",
      "                                                                 \n",
      " dropout (Dropout)           (None, None, 256)         0         \n",
      "                                                                 \n",
      " lstm (LSTM)                 (None, 256)               525312    \n",
      "                                                                 \n",
      " dropout_1 (Dropout)         (None, 256)               0         \n",
      "                                                                 \n",
      " dense_2 (Dense)             (None, 256)               65792     \n",
      "                                                                 \n",
      " dense_3 (Dense)             (None, 250)               64250     \n",
      "                                                                 \n",
      "=================================================================\n",
      "Total params: 923,898\n",
      "Trainable params: 923,898\n",
      "Non-trainable params: 0\n",
      "_________________________________________________________________\n"
     ]
    }
   ],
   "source": [
    "ltsm_model.summary()"
   ]
  },
  {
   "cell_type": "markdown",
   "id": "089084e6",
   "metadata": {
    "papermill": {
     "duration": 0.006494,
     "end_time": "2023-03-27T15:27:26.135899",
     "exception": false,
     "start_time": "2023-03-27T15:27:26.129405",
     "status": "completed"
    },
    "tags": []
   },
   "source": [
    "### Params and utils"
   ]
  },
  {
   "cell_type": "code",
   "execution_count": 5,
   "id": "c717b722",
   "metadata": {
    "execution": {
     "iopub.execute_input": "2023-03-27T15:27:26.150907Z",
     "iopub.status.busy": "2023-03-27T15:27:26.150492Z",
     "iopub.status.idle": "2023-03-27T15:27:26.154853Z",
     "shell.execute_reply": "2023-03-27T15:27:26.154036Z"
    },
    "papermill": {
     "duration": 0.014376,
     "end_time": "2023-03-27T15:27:26.156964",
     "exception": false,
     "start_time": "2023-03-27T15:27:26.142588",
     "status": "completed"
    },
    "tags": []
   },
   "outputs": [],
   "source": [
    "ROWS_PER_FRAME = 543\n",
    "LANDMARK_IDX = [0,9,11,13,14,17,117,118,119,199,346,347,348] + list(range(468,543))"
   ]
  },
  {
   "cell_type": "code",
   "execution_count": 6,
   "id": "2338ad68",
   "metadata": {
    "execution": {
     "iopub.execute_input": "2023-03-27T15:27:26.171530Z",
     "iopub.status.busy": "2023-03-27T15:27:26.171245Z",
     "iopub.status.idle": "2023-03-27T15:27:26.181723Z",
     "shell.execute_reply": "2023-03-27T15:27:26.180307Z"
    },
    "papermill": {
     "duration": 0.020812,
     "end_time": "2023-03-27T15:27:26.184548",
     "exception": false,
     "start_time": "2023-03-27T15:27:26.163736",
     "status": "completed"
    },
    "tags": []
   },
   "outputs": [
    {
     "name": "stdout",
     "output_type": "stream",
     "text": [
      "84\n"
     ]
    }
   ],
   "source": [
    "DROP_Z = False\n",
    "\n",
    "NUM_FRAMES = 15\n",
    "SEGMENTS = 3\n",
    "\n",
    "LEFT_HAND_OFFSET = 468\n",
    "POSE_OFFSET = LEFT_HAND_OFFSET+21\n",
    "RIGHT_HAND_OFFSET = POSE_OFFSET+33\n",
    "\n",
    "## average over the entire face, and the entire 'pose'\n",
    "averaging_sets = [[0, 468], [POSE_OFFSET, 33]]\n",
    "\n",
    "lip_landmarks = [61, 185, 40, 39, 37,  0, 267, 269, 270, 409,\n",
    "                 291,146, 91,181, 84, 17, 314, 405, 321, 375, \n",
    "                 78, 191, 80, 81, 82, 13, 312, 311, 310, 415, \n",
    "                 95, 88, 178, 87, 14,317, 402, 318, 324, 308]\n",
    "left_hand_landmarks = list(range(LEFT_HAND_OFFSET, LEFT_HAND_OFFSET+21))\n",
    "right_hand_landmarks = list(range(RIGHT_HAND_OFFSET, RIGHT_HAND_OFFSET+21))\n",
    "\n",
    "point_landmarks = [item for sublist in [lip_landmarks, left_hand_landmarks, right_hand_landmarks] for item in sublist]\n",
    "\n",
    "LANDMARKS = len(point_landmarks) + len(averaging_sets)\n",
    "print(LANDMARKS)\n",
    "if DROP_Z:\n",
    "    INPUT_SHAPE = (NUM_FRAMES,LANDMARKS*2)\n",
    "else:\n",
    "    INPUT_SHAPE = (NUM_FRAMES,LANDMARKS*3)\n",
    "\n",
    "FLAT_INPUT_SHAPE = (INPUT_SHAPE[0] + 2 * (SEGMENTS + 1)) * INPUT_SHAPE[1]"
   ]
  },
  {
   "cell_type": "code",
   "execution_count": 7,
   "id": "14dd9d02",
   "metadata": {
    "execution": {
     "iopub.execute_input": "2023-03-27T15:27:26.199910Z",
     "iopub.status.busy": "2023-03-27T15:27:26.199632Z",
     "iopub.status.idle": "2023-03-27T15:27:26.215008Z",
     "shell.execute_reply": "2023-03-27T15:27:26.214047Z"
    },
    "papermill": {
     "duration": 0.025288,
     "end_time": "2023-03-27T15:27:26.217144",
     "exception": false,
     "start_time": "2023-03-27T15:27:26.191856",
     "status": "completed"
    },
    "tags": []
   },
   "outputs": [],
   "source": [
    "def tf_nan_mean(x, axis=0):\n",
    "    return tf.reduce_sum(tf.where(tf.math.is_nan(x), tf.zeros_like(x), x), axis=axis) / tf.reduce_sum(tf.where(tf.math.is_nan(x), tf.zeros_like(x), tf.ones_like(x)), axis=axis)\n",
    "\n",
    "def tf_nan_std(x, axis=0):\n",
    "    d = x - tf_nan_mean(x, axis=axis)\n",
    "    return tf.math.sqrt(tf_nan_mean(d * d, axis=axis))\n",
    "\n",
    "def flatten_means_and_stds(x, axis=0):\n",
    "    # Get means and stds\n",
    "    x_mean = tf_nan_mean(x, axis=0)\n",
    "    x_std  = tf_nan_std(x,  axis=0)\n",
    "\n",
    "    x_out = tf.concat([x_mean, x_std], axis=0)\n",
    "    x_out = tf.reshape(x_out, (1, INPUT_SHAPE[1]*2))\n",
    "    x_out = tf.where(tf.math.is_finite(x_out), x_out, tf.zeros_like(x_out))\n",
    "    return x_out\n",
    "\n",
    "class FeatureGen(tf.keras.layers.Layer):\n",
    "    def __init__(self):\n",
    "        super(FeatureGen, self).__init__()\n",
    "    \n",
    "    def call(self, x_in):\n",
    "        if DROP_Z:\n",
    "            x_in = x_in[:, :, 0:2]\n",
    "        x_list = [tf.expand_dims(tf_nan_mean(x_in[:, av_set[0]:av_set[0]+av_set[1], :], axis=1), axis=1) for av_set in averaging_sets]\n",
    "        x_list.append(tf.gather(x_in, point_landmarks, axis=1))\n",
    "        x = tf.concat(x_list, 1)\n",
    "\n",
    "        x_padded = x\n",
    "        for i in range(SEGMENTS):\n",
    "            p0 = tf.where( ((tf.shape(x_padded)[0] % SEGMENTS) > 0) & ((i % 2) != 0) , 1, 0)\n",
    "            p1 = tf.where( ((tf.shape(x_padded)[0] % SEGMENTS) > 0) & ((i % 2) == 0) , 1, 0)\n",
    "            paddings = [[p0, p1], [0, 0], [0, 0]]\n",
    "            x_padded = tf.pad(x_padded, paddings, mode=\"SYMMETRIC\")\n",
    "        x_list = tf.split(x_padded, SEGMENTS)\n",
    "        x_list = [flatten_means_and_stds(_x, axis=0) for _x in x_list]\n",
    "\n",
    "        x_list.append(flatten_means_and_stds(x, axis=0))\n",
    "        \n",
    "        ## Resize only dimension 0. Resize can't handle nan, so replace nan with that dimension's avg value to reduce impact.\n",
    "        x = tf.image.resize(tf.where(tf.math.is_finite(x), x, tf_nan_mean(x, axis=0)), [NUM_FRAMES, LANDMARKS])\n",
    "        x = tf.reshape(x, (1, INPUT_SHAPE[0]*INPUT_SHAPE[1]))\n",
    "        x = tf.where(tf.math.is_nan(x), tf.zeros_like(x), x)\n",
    "        x_list.append(x)\n",
    "        x = tf.concat(x_list, axis=1)\n",
    "        return x"
   ]
  },
  {
   "cell_type": "markdown",
   "id": "2292d827",
   "metadata": {
    "papermill": {
     "duration": 0.006884,
     "end_time": "2023-03-27T15:27:26.231003",
     "exception": false,
     "start_time": "2023-03-27T15:27:26.224119",
     "status": "completed"
    },
    "tags": []
   },
   "source": [
    "### Make ensemble "
   ]
  },
  {
   "cell_type": "code",
   "execution_count": 8,
   "id": "ffc3b032",
   "metadata": {
    "execution": {
     "iopub.execute_input": "2023-03-27T15:27:26.245391Z",
     "iopub.status.busy": "2023-03-27T15:27:26.245095Z",
     "iopub.status.idle": "2023-03-27T15:27:26.253762Z",
     "shell.execute_reply": "2023-03-27T15:27:26.252884Z"
    },
    "papermill": {
     "duration": 0.018077,
     "end_time": "2023-03-27T15:27:26.255807",
     "exception": false,
     "start_time": "2023-03-27T15:27:26.237730",
     "status": "completed"
    },
    "tags": []
   },
   "outputs": [],
   "source": [
    "def get_inference_model(model,asl_model):\n",
    "    inputs = tf.keras.Input(shape=(ROWS_PER_FRAME,3), name=\"inputs\")\n",
    "    \n",
    "    # drop most of the face mesh\n",
    "    x = tf.gather(inputs, LANDMARK_IDX, axis=1)\n",
    "\n",
    "    # fill nan\n",
    "    x = tf.where(tf.math.is_nan(x), tf.zeros_like(x), x)\n",
    "\n",
    "    # flatten landmark xyz coordinates ()\n",
    "    x = tf.concat([x[...,i] for i in range(3)], -1)\n",
    "\n",
    "    x = tf.expand_dims(x,0)\n",
    "    \n",
    "    # call trained model\n",
    "    out = model(x)\n",
    "    \n",
    "    #model 2\n",
    "    prep_inputs = FeatureGen()\n",
    "#     x2 = prep_inputs(tf.cast(inputs, dtype=tf.float32))\n",
    "#     out2 = asl_model(x2)\n",
    "    x2 = prep_inputs(tf.cast(inputs, dtype=tf.float32))\n",
    "    out2 = asl_model(x2)\n",
    "    \n",
    "    #out3 = tf.keras.layers.Average()([out,out2])\n",
    "    out3 = tf.keras.layers.Add()([0.45*out,0.55*out2])\n",
    "    \n",
    "    # explicitly name the final (identity) layer for the submission format\n",
    "    out = layers.Activation(\"linear\", name=\"outputs\")(out3)\n",
    "    \n",
    "    inference_model = tf.keras.Model(inputs=inputs, outputs=out)\n",
    "    inference_model.compile(loss=\"sparse_categorical_crossentropy\",\n",
    "                            metrics=\"accuracy\")\n",
    "    return inference_model"
   ]
  },
  {
   "cell_type": "code",
   "execution_count": 9,
   "id": "6ce38d60",
   "metadata": {
    "execution": {
     "iopub.execute_input": "2023-03-27T15:27:26.277538Z",
     "iopub.status.busy": "2023-03-27T15:27:26.276509Z",
     "iopub.status.idle": "2023-03-27T15:27:27.543982Z",
     "shell.execute_reply": "2023-03-27T15:27:27.542733Z"
    },
    "papermill": {
     "duration": 1.285161,
     "end_time": "2023-03-27T15:27:27.547374",
     "exception": false,
     "start_time": "2023-03-27T15:27:26.262213",
     "status": "completed"
    },
    "tags": []
   },
   "outputs": [
    {
     "data": {
      "image/png": "[encoded data removed]",
      "text/plain": [
       "<IPython.core.display.Image object>"
      ]
     },
     "execution_count": 9,
     "metadata": {},
     "output_type": "execute_result"
    }
   ],
   "source": [
    "inference_model = get_inference_model(ltsm_model,asl_model)\n",
    "tf.keras.utils.plot_model(inference_model)"
   ]
  },
  {
   "cell_type": "code",
   "execution_count": 10,
   "id": "65f07c35",
   "metadata": {
    "execution": {
     "iopub.execute_input": "2023-03-27T15:27:27.564824Z",
     "iopub.status.busy": "2023-03-27T15:27:27.564511Z",
     "iopub.status.idle": "2023-03-27T15:27:27.690135Z",
     "shell.execute_reply": "2023-03-27T15:27:27.689069Z"
    },
    "papermill": {
     "duration": 0.253497,
     "end_time": "2023-03-27T15:27:27.808983",
     "exception": false,
     "start_time": "2023-03-27T15:27:27.555486",
     "status": "completed"
    },
    "tags": []
   },
   "outputs": [
    {
     "name": "stdout",
     "output_type": "stream",
     "text": [
      "Model: \"model\"\n",
      "__________________________________________________________________________________________________\n",
      " Layer (type)                   Output Shape         Param #     Connected to                     \n",
      "==================================================================================================\n",
      " inputs (InputLayer)            [(None, 543, 3)]     0           []                               \n",
      "                                                                                                  \n",
      " tf.compat.v1.gather (TFOpLambd  (None, 88, 3)       0           ['inputs[0][0]']                 \n",
      " a)                                                                                               \n",
      "                                                                                                  \n",
      " tf.math.is_nan (TFOpLambda)    (None, 88, 3)        0           ['tf.compat.v1.gather[0][0]']    \n",
      "                                                                                                  \n",
      " tf.zeros_like (TFOpLambda)     (None, 88, 3)        0           ['tf.compat.v1.gather[0][0]']    \n",
      "                                                                                                  \n",
      " tf.where (TFOpLambda)          (None, 88, 3)        0           ['tf.math.is_nan[0][0]',         \n",
      "                                                                  'tf.zeros_like[0][0]',          \n",
      "                                                                  'tf.compat.v1.gather[0][0]']    \n",
      "                                                                                                  \n",
      " tf.__operators__.getitem (Slic  (None, 88)          0           ['tf.where[0][0]']               \n",
      " ingOpLambda)                                                                                     \n",
      "                                                                                                  \n",
      " tf.__operators__.getitem_1 (Sl  (None, 88)          0           ['tf.where[0][0]']               \n",
      " icingOpLambda)                                                                                   \n",
      "                                                                                                  \n",
      " tf.__operators__.getitem_2 (Sl  (None, 88)          0           ['tf.where[0][0]']               \n",
      " icingOpLambda)                                                                                   \n",
      "                                                                                                  \n",
      " tf.concat (TFOpLambda)         (None, 264)          0           ['tf.__operators__.getitem[0][0]'\n",
      "                                                                 , 'tf.__operators__.getitem_1[0][\n",
      "                                                                 0]',                             \n",
      "                                                                  'tf.__operators__.getitem_2[0][0\n",
      "                                                                 ]']                              \n",
      "                                                                                                  \n",
      " tf.cast (TFOpLambda)           (None, 543, 3)       0           ['inputs[0][0]']                 \n",
      "                                                                                                  \n",
      " tf.expand_dims (TFOpLambda)    (1, None, 264)       0           ['tf.concat[0][0]']              \n",
      "                                                                                                  \n",
      " feature_gen (FeatureGen)       (1, 5796)            0           ['tf.cast[0][0]']                \n",
      "                                                                                                  \n",
      " model (Functional)             (None, 250)          923898      ['tf.expand_dims[0][0]']         \n",
      "|¯¯¯¯¯¯¯¯¯¯¯¯¯¯¯¯¯¯¯¯¯¯¯¯¯¯¯¯¯¯¯¯¯¯¯¯¯¯¯¯¯¯¯¯¯¯¯¯¯¯¯¯¯¯¯¯¯¯¯¯¯¯¯¯¯¯¯¯¯¯¯¯¯¯¯¯¯¯¯¯¯¯¯¯¯¯¯¯¯¯¯¯¯¯¯¯|\n",
      "| input_1 (InputLayer)         [(None, None, 264)]  0           []                               |\n",
      "|                                                                                                |\n",
      "| dense (Dense)                (None, None, 512)    135680      []                               |\n",
      "|                                                                                                |\n",
      "| layer_normalization (LayerNorm  (None, None, 512)  1024       []                               |\n",
      "| alization)                                                                                     |\n",
      "|                                                                                                |\n",
      "| activation (Activation)      (None, None, 512)    0           []                               |\n",
      "|                                                                                                |\n",
      "| dense_1 (Dense)              (None, None, 256)    131328      []                               |\n",
      "|                                                                                                |\n",
      "| layer_normalization_1 (LayerNo  (None, None, 256)  512        []                               |\n",
      "| rmalization)                                                                                   |\n",
      "|                                                                                                |\n",
      "| activation_1 (Activation)    (None, None, 256)    0           []                               |\n",
      "|                                                                                                |\n",
      "| dropout (Dropout)            (None, None, 256)    0           []                               |\n",
      "|                                                                                                |\n",
      "| lstm (LSTM)                  (None, 256)          525312      []                               |\n",
      "|                                                                                                |\n",
      "| dropout_1 (Dropout)          (None, 256)          0           []                               |\n",
      "|                                                                                                |\n",
      "| dense_2 (Dense)              (None, 256)          65792       []                               |\n",
      "|                                                                                                |\n",
      "| dense_3 (Dense)              (None, 250)          64250       []                               |\n",
      "¯¯¯¯¯¯¯¯¯¯¯¯¯¯¯¯¯¯¯¯¯¯¯¯¯¯¯¯¯¯¯¯¯¯¯¯¯¯¯¯¯¯¯¯¯¯¯¯¯¯¯¯¯¯¯¯¯¯¯¯¯¯¯¯¯¯¯¯¯¯¯¯¯¯¯¯¯¯¯¯¯¯¯¯¯¯¯¯¯¯¯¯¯¯¯¯¯¯\n",
      " model_1 (Functional)           (None, 250)          6595322     ['feature_gen[0][0]']            \n",
      "|¯¯¯¯¯¯¯¯¯¯¯¯¯¯¯¯¯¯¯¯¯¯¯¯¯¯¯¯¯¯¯¯¯¯¯¯¯¯¯¯¯¯¯¯¯¯¯¯¯¯¯¯¯¯¯¯¯¯¯¯¯¯¯¯¯¯¯¯¯¯¯¯¯¯¯¯¯¯¯¯¯¯¯¯¯¯¯¯¯¯¯¯¯¯¯¯|\n",
      "| input_2 (InputLayer)         [(None, 5796)]       0           []                               |\n",
      "|                                                                                                |\n",
      "| dense_3 (Dense)              (None, 1024)         5936128     []                               |\n",
      "|                                                                                                |\n",
      "| batch_normalization_2 (BatchNo  (None, 1024)      4096        []                               |\n",
      "| rmalization)                                                                                   |\n",
      "|                                                                                                |\n",
      "| activation_2 (Activation)    (None, 1024)         0           []                               |\n",
      "|                                                                                                |\n",
      "| dropout_2 (Dropout)          (None, 1024)         0           []                               |\n",
      "|                                                                                                |\n",
      "| dense_4 (Dense)              (None, 512)          524800      []                               |\n",
      "|                                                                                                |\n",
      "| batch_normalization_3 (BatchNo  (None, 512)       2048        []                               |\n",
      "| rmalization)                                                                                   |\n",
      "|                                                                                                |\n",
      "| activation_3 (Activation)    (None, 512)          0           []                               |\n",
      "|                                                                                                |\n",
      "| dropout_3 (Dropout)          (None, 512)          0           []                               |\n",
      "|                                                                                                |\n",
      "| dense_5 (Dense)              (None, 250)          128250      []                               |\n",
      "¯¯¯¯¯¯¯¯¯¯¯¯¯¯¯¯¯¯¯¯¯¯¯¯¯¯¯¯¯¯¯¯¯¯¯¯¯¯¯¯¯¯¯¯¯¯¯¯¯¯¯¯¯¯¯¯¯¯¯¯¯¯¯¯¯¯¯¯¯¯¯¯¯¯¯¯¯¯¯¯¯¯¯¯¯¯¯¯¯¯¯¯¯¯¯¯¯¯\n",
      " tf.math.multiply (TFOpLambda)  (1, 250)             0           ['model[0][0]']                  \n",
      "                                                                                                  \n",
      " tf.math.multiply_1 (TFOpLambda  (1, 250)            0           ['model_1[0][0]']                \n",
      " )                                                                                                \n",
      "                                                                                                  \n",
      " add (Add)                      (1, 250)             0           ['tf.math.multiply[0][0]',       \n",
      "                                                                  'tf.math.multiply_1[0][0]']     \n",
      "                                                                                                  \n",
      " outputs (Activation)           (1, 250)             0           ['add[0][0]']                    \n",
      "                                                                                                  \n",
      "==================================================================================================\n",
      "Total params: 7,519,220\n",
      "Trainable params: 7,516,148\n",
      "Non-trainable params: 3,072\n",
      "__________________________________________________________________________________________________\n"
     ]
    }
   ],
   "source": [
    "inference_model.summary(expand_nested=True)"
   ]
  },
  {
   "cell_type": "markdown",
   "id": "9dbfa486",
   "metadata": {
    "papermill": {
     "duration": 0.021491,
     "end_time": "2023-03-27T15:27:27.852683",
     "exception": false,
     "start_time": "2023-03-27T15:27:27.831192",
     "status": "completed"
    },
    "tags": []
   },
   "source": [
    "### Convert model"
   ]
  },
  {
   "cell_type": "code",
   "execution_count": 11,
   "id": "fc40ca09",
   "metadata": {
    "execution": {
     "iopub.execute_input": "2023-03-27T15:27:27.894906Z",
     "iopub.status.busy": "2023-03-27T15:27:27.894329Z",
     "iopub.status.idle": "2023-03-27T15:27:47.822952Z",
     "shell.execute_reply": "2023-03-27T15:27:47.821515Z"
    },
    "papermill": {
     "duration": 19.953116,
     "end_time": "2023-03-27T15:27:47.826122",
     "exception": false,
     "start_time": "2023-03-27T15:27:27.873006",
     "status": "completed"
    },
    "tags": []
   },
   "outputs": [
    {
     "name": "stdout",
     "output_type": "stream",
     "text": [
      "  adding: model.tflite (deflated 7%)\r\n"
     ]
    }
   ],
   "source": [
    "converter = tf.lite.TFLiteConverter.from_keras_model(inference_model)\n",
    "tflite_model = converter.convert()\n",
    "model_path = \"model.tflite\"\n",
    "\n",
    "with open(model_path, 'wb') as f:\n",
    "    f.write(tflite_model)\n",
    "!zip submission.zip $model_path"
   ]
  }
 ],
 "metadata": {
  "kernelspec": {
   "display_name": "Python 3",
   "language": "python",
   "name": "python3"
  },
  "language_info": {
   "codemirror_mode": {
    "name": "ipython",
    "version": 3
   },
   "file_extension": ".py",
   "mimetype": "text/x-python",
   "name": "python",
   "nbconvert_exporter": "python",
   "pygments_lexer": "ipython3",
   "version": "3.7.12"
  },
  "papermill": {
   "default_parameters": {},
   "duration": 43.710761,
   "end_time": "2023-03-27T15:27:50.685113",
   "environment_variables": {},
   "exception": null,
   "input_path": "__notebook__.ipynb",
   "output_path": "__notebook__.ipynb",
   "parameters": {},
   "start_time": "2023-03-27T15:27:06.974352",
   "version": "2.4.0"
  }
 },
 "nbformat": 4,
 "nbformat_minor": 5
}
